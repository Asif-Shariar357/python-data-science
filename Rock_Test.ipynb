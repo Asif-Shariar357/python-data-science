{
  "nbformat": 4,
  "nbformat_minor": 0,
  "metadata": {
    "colab": {
      "provenance": []
    },
    "kernelspec": {
      "name": "python3",
      "display_name": "Python 3"
    },
    "language_info": {
      "name": "python"
    }
  },
  "cells": [
    {
      "cell_type": "code",
      "execution_count": null,
      "metadata": {
        "colab": {
          "base_uri": "https://localhost:8080/"
        },
        "id": "PJckGllvG_aU",
        "outputId": "897c98bd-1199-4cb5-ac25-9054587ecce7"
      },
      "outputs": [
        {
          "output_type": "stream",
          "name": "stdout",
          "text": [
            "Enter a choice(rock,paper,scissors): rock\n",
            "You chose rock, computer chose scissors\n",
            "Yeah! Rock smashes the scissors, You win...\n"
          ]
        }
      ],
      "source": [
        "import random\n",
        "\n",
        "def get_choices():\n",
        "  \n",
        "  player_choice = input(\"Enter a choice(rock,paper,scissors): \")\n",
        "  options = [\"rock\", \"paper\", \"scissors\"]\n",
        "  computer_choice = random.choice(options)\n",
        "  choices = {\"player\": player_choice, \"computer\": computer_choice}\n",
        "  return choices\n",
        "\n",
        "def check_win(player,computer):\n",
        "  print(f\"You chose {player}, computer chose {computer}\")\n",
        "  if player == computer:\n",
        "    return \"It's a tie!\"\n",
        "  elif player == \"rock\":\n",
        "    if computer == \"paper\":\n",
        "      return \"Oops! Paper covers the rock, You lose.\"\n",
        "    else:\n",
        "      return \"Yeah! Rock smashes the scissors, You win...\"\n",
        "  elif player == \"paper\":\n",
        "    if computer == \"scissors\":\n",
        "      return \"Oops! Scissors cuts the paper down, You lose.\"\n",
        "    else:\n",
        "      return \"Yeah! Paper covers the rock, You win...\"\n",
        "  else:\n",
        "    if computer == \"rock\":\n",
        "      return \"Oops! Rock smashes the scissors, You lose.\"\n",
        "    else:\n",
        "      return \"Yeah! Scissors cuts the paper down, You win...\"\n",
        "\n",
        "choose = get_choices()\n",
        "result = check_win(choose[\"player\"],choose[\"computer\"])\n",
        "print(result)"
      ]
    },
    {
      "cell_type": "code",
      "source": [],
      "metadata": {
        "id": "eWePvaIRHsZa",
        "colab": {
          "base_uri": "https://localhost:8080/"
        },
        "outputId": "96c16a09-c22f-4749-9e14-d7f76743c4d3"
      },
      "execution_count": null,
      "outputs": [
        {
          "name": "stdout",
          "output_type": "stream",
          "text": [
            "Enter a choice(rock,paper,scissors): rock\n"
          ]
        },
        {
          "output_type": "execute_result",
          "data": {
            "text/plain": [
              "{'player': 'rock', 'computer': 'rock'}"
            ]
          },
          "metadata": {},
          "execution_count": 2
        }
      ]
    }
  ]
}